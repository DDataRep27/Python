{
 "cells": [
  {
   "cell_type": "code",
   "execution_count": 4,
   "id": "cb8ae1dc",
   "metadata": {},
   "outputs": [
    {
     "name": "stdout",
     "output_type": "stream",
     "text": [
      "Hi\n"
     ]
    }
   ],
   "source": [
    "print(\"Hi\")"
   ]
  },
  {
   "cell_type": "code",
   "execution_count": 5,
   "id": "e6a1889e",
   "metadata": {},
   "outputs": [
    {
     "name": "stdout",
     "output_type": "stream",
     "text": [
      "Enter the number: 5\n",
      "result is:  24\n"
     ]
    }
   ],
   "source": [
    "x=int(input(\"Enter the number: \"))\n",
    "y=3*x+9\n",
    "print(\"result is: \",y)"
   ]
  },
  {
   "cell_type": "code",
   "execution_count": 6,
   "id": "e5a958bc",
   "metadata": {},
   "outputs": [
    {
     "name": "stdout",
     "output_type": "stream",
     "text": [
      "Enter the number x: 5\n",
      "Enter the number y: 5\n",
      "Enter the number z: 5\n",
      "Result is:  148.2\n"
     ]
    }
   ],
   "source": [
    "x=int(input(\"Enter the number x: \"))\n",
    "y=int(input(\"Enter the number y: \"))\n",
    "z=int(input(\"Enter the number z: \"))\n",
    "a=(((x**4)+(y**3)-9)/z)\n",
    "print(\"Result is: \", a)"
   ]
  },
  {
   "cell_type": "code",
   "execution_count": 7,
   "id": "8aebd79d",
   "metadata": {},
   "outputs": [],
   "source": [
    "import math"
   ]
  },
  {
   "cell_type": "code",
   "execution_count": 8,
   "id": "81d3f5fc",
   "metadata": {},
   "outputs": [
    {
     "name": "stdout",
     "output_type": "stream",
     "text": [
      "Enter the number x: 5\n",
      "Enter the number y: 5\n",
      "Enter the number z: 5\n",
      "Result is:  27.35690040922034\n"
     ]
    }
   ],
   "source": [
    "x=int(input(\"Enter the number x: \"))\n",
    "y=int(input(\"Enter the number y: \"))\n",
    "z=int(input(\"Enter the number z: \"))\n",
    "a=math.sqrt(((x**5)+(y**4)-8)/z)\n",
    "print(\"Result is: \",a)"
   ]
  },
  {
   "cell_type": "code",
   "execution_count": 9,
   "id": "e82d70e9",
   "metadata": {},
   "outputs": [
    {
     "name": "stdout",
     "output_type": "stream",
     "text": [
      "Enter the number x: 5\n",
      "Enter the number y: 5\n",
      "Enter the number z: 5\n",
      "Result is:  12.242548754242312\n"
     ]
    }
   ],
   "source": [
    "x=int(input(\"Enter the number x: \"))\n",
    "y=int(input(\"Enter the number y: \"))\n",
    "z=int(input(\"Enter the number z: \"))\n",
    "a=math.sqrt(((x**5)+(y**4)-3)/(z**2))\n",
    "print(\"Result is: \",a)"
   ]
  },
  {
   "cell_type": "code",
   "execution_count": 10,
   "id": "606d2104",
   "metadata": {},
   "outputs": [
    {
     "name": "stdout",
     "output_type": "stream",
     "text": [
      "Enter the 1st number: 5\n",
      "Enter the 2nd number: 5\n",
      "Enter the 3rd number: 5\n"
     ]
    }
   ],
   "source": [
    "#Finding the greatest number from given 3 numbers\n",
    "#Nested if else\n",
    "\n",
    "a = int(input(\"Enter the 1st number: \"))\n",
    "b = int(input(\"Enter the 2nd number: \"))\n",
    "c = int(input(\"Enter the 3rd number: \"))\n",
    "\n",
    "if a>b:\n",
    "    if a>c:\n",
    "        print(\"Greatest number is: \",a)\n",
    "            \n",
    "    else:\n",
    "        print(\"Greatest number is: \",c)\n",
    "            \n",
    "elif b>a:\n",
    "    if b>c:\n",
    "        print(\"Greatest number is: \",b)\n",
    "            \n",
    "    else:\n",
    "        print(\"Greatest number is: \",c)"
   ]
  },
  {
   "cell_type": "code",
   "execution_count": 11,
   "id": "28910a9f",
   "metadata": {},
   "outputs": [
    {
     "name": "stdout",
     "output_type": "stream",
     "text": [
      "Enter the 1st number: 5\n",
      "Enter the 2nd number: 5\n",
      "Enter the 3rd number: 5\n",
      "Greatest number:  5\n"
     ]
    }
   ],
   "source": [
    "#Finding the greatest number from given 3 numbers\n",
    "#Nested if else\n",
    "\n",
    "a = int(input(\"Enter the 1st number: \"))\n",
    "b = int(input(\"Enter the 2nd number: \"))\n",
    "c = int(input(\"Enter the 3rd number: \"))\n",
    "\n",
    "if a>b:\n",
    "    if a>c:\n",
    "        print(\"Greatest number: \",a)\n",
    "        \n",
    "    else:\n",
    "        print(\"Greatest number: \",c)\n",
    "        \n",
    "elif b>a:\n",
    "    if b>c:\n",
    "        print(\"Greatest number: \",b)\n",
    "        \n",
    "    else:\n",
    "        print(\"Greatest number: \",c)\n",
    "         \n",
    "else: print(\"Greatest number: \",c)"
   ]
  },
  {
   "cell_type": "code",
   "execution_count": 12,
   "id": "53535986",
   "metadata": {},
   "outputs": [
    {
     "name": "stdout",
     "output_type": "stream",
     "text": [
      "1300\n"
     ]
    }
   ],
   "source": [
    "def max_num(num1,num2,num3):\n",
    "    if num1>num2 and num1>num3:\n",
    "        return num1\n",
    "    elif num2>num1 and num2>num3:\n",
    "        return num2\n",
    "    else: return num3\n",
    "print(max_num(800,1200,1300))\n",
    "\n"
   ]
  },
  {
   "cell_type": "code",
   "execution_count": 13,
   "id": "4ec046df",
   "metadata": {},
   "outputs": [
    {
     "name": "stdout",
     "output_type": "stream",
     "text": [
      "Enter the 1st number: 5\n",
      "Enter the 2nd number: 5\n",
      "Enter the 3rd number: 5\n",
      "5\n"
     ]
    }
   ],
   "source": [
    "# Find the greatest of given 3 no.\n",
    "\n",
    "a = int(input(\"Enter the 1st number: \"))\n",
    "b = int(input(\"Enter the 2nd number: \"))\n",
    "c = int(input(\"Enter the 3rd number: \"))\n",
    "\n",
    "if a>b and a>c:\n",
    "    print(a)\n",
    "elif b>a and b>c:\n",
    "    print(b)\n",
    "else: print(c)"
   ]
  },
  {
   "cell_type": "code",
   "execution_count": 14,
   "id": "fab4f0a4",
   "metadata": {},
   "outputs": [
    {
     "name": "stdout",
     "output_type": "stream",
     "text": [
      "Enter the number: 5\n",
      "Positive number\n"
     ]
    }
   ],
   "source": [
    "# Nested IF\n",
    "\n",
    "a = int(input(\"Enter the number: \"))\n",
    "\n",
    "if a>=0:\n",
    "    if a==0:\n",
    "        print(\"Zero\")\n",
    "    else: print(\"Positive number\")\n",
    "        \n",
    "else: print(\"Negative number\")"
   ]
  },
  {
   "cell_type": "code",
   "execution_count": 15,
   "id": "a637bdc2",
   "metadata": {},
   "outputs": [
    {
     "name": "stdout",
     "output_type": "stream",
     "text": [
      "Enter the number: 5\n",
      "Positive number\n"
     ]
    }
   ],
   "source": [
    "b = int(input(\"Enter the number: \"))\n",
    "\n",
    "if b>=0:\n",
    "    if b==0:\n",
    "        print(\"Zero\")\n",
    "    else: \n",
    "        print(\"Positive number\")\n",
    "else: \n",
    "    print(\"Negative number\")"
   ]
  },
  {
   "cell_type": "code",
   "execution_count": 16,
   "id": "bb37f998",
   "metadata": {},
   "outputs": [
    {
     "name": "stdout",
     "output_type": "stream",
     "text": [
      "1 Hello\n",
      "2 Hello\n",
      "3 Hello\n",
      "4 Hello\n",
      "5 Hello\n",
      "6 Hello\n",
      "7 Hello\n",
      "8 Hello\n",
      "9 Hello\n",
      "10 Hello\n",
      "11 Hello\n",
      "12 Hello\n",
      "13 Hello\n",
      "14 Hello\n",
      "15 Hello\n",
      "16 Hello\n",
      "17 Hello\n",
      "18 Hello\n",
      "19 Hello\n",
      "20 Hello\n",
      "21 Hello\n",
      "22 Hello\n",
      "23 Hello\n",
      "24 Hello\n",
      "25 Hello\n",
      "26 Hello\n",
      "27 Hello\n",
      "28 Hello\n",
      "29 Hello\n",
      "30 Hi\n",
      "31 Hi\n",
      "32 Hi\n",
      "33 Hi\n",
      "34 Hi\n",
      "35 Hi\n",
      "36 Hi\n",
      "37 Hi\n",
      "38 Hi\n",
      "39 Hi\n",
      "40 Hi\n",
      "41 Hi\n",
      "42 Hi\n",
      "43 Hi\n",
      "44 Hi\n",
      "45 Hi\n",
      "46 Hi\n",
      "47 Hi\n",
      "48 Hi\n",
      "49 Hi\n",
      "50 Hi\n",
      "51 Hello\n",
      "52 Hello\n",
      "53 Hello\n",
      "54 Hello\n",
      "55 Hello\n",
      "56 Hello\n",
      "57 Hello\n",
      "58 Hello\n",
      "59 Hello\n",
      "60 Hello\n",
      "61 Hello\n",
      "62 Hello\n",
      "63 Hello\n",
      "64 Hello\n",
      "65 Hello\n",
      "66 Hello\n",
      "67 Hello\n",
      "68 Hello\n",
      "69 Hello\n",
      "70 Hey\n",
      "71 Hey\n",
      "72 Hey\n",
      "73 Hey\n",
      "74 Hey\n",
      "75 Hey\n",
      "76 Hey\n",
      "77 Hey\n",
      "78 Hey\n",
      "79 Hey\n",
      "80 Hey\n",
      "81 Hey\n",
      "82 Hey\n",
      "83 Hey\n",
      "84 Hey\n",
      "85 Hey\n",
      "86 Hey\n",
      "87 Hey\n",
      "88 Hey\n",
      "89 Hey\n",
      "90 Hey\n",
      "91 Hello\n",
      "92 Hello\n",
      "93 Hello\n",
      "94 Hello\n",
      "95 Hello\n",
      "96 Hello\n",
      "97 Hello\n",
      "98 Hello\n",
      "99 Hello\n",
      "100 Hello\n"
     ]
    }
   ],
   "source": [
    "a = \"Hello\"\n",
    "b = \"Hi\"\n",
    "c = \"Hey\"\n",
    "\n",
    "for i in range(1,101):\n",
    "    \n",
    "    if i>=30 and i<51:\n",
    "        print(i,b)\n",
    "       \n",
    "    elif i>=70 and i<91:\n",
    "        print(i,c)\n",
    "       \n",
    "    else: print(i,a) "
   ]
  },
  {
   "cell_type": "code",
   "execution_count": 17,
   "id": "2c0d4c87",
   "metadata": {},
   "outputs": [
    {
     "name": "stdout",
     "output_type": "stream",
     "text": [
      "1 Hi DR.\n",
      "2 Hi DR.\n",
      "3 Hi DR.\n",
      "4 Hi DR.\n",
      "5 Hi DR.\n",
      "6 Hi DR.\n",
      "7 Hi DR.\n",
      "8 Hi DR.\n",
      "9 Hi DR.\n",
      "10 Hi DR.\n",
      "11 Hi DR.\n",
      "12 Hi DR.\n",
      "13 Hi DR.\n",
      "14 Hi DR.\n",
      "15 Hi DR.\n",
      "16 Hi DR.\n",
      "17 Hi DR.\n",
      "18 Hi DR.\n",
      "19 Hi DR.\n",
      "20 Hi DR.\n",
      "21 Hi DR.\n",
      "22 Hi DR.\n",
      "23 Hi DR.\n",
      "24 Hi DR.\n",
      "25 Hi Hello DR.\n",
      "26 Hi Hello DR.\n",
      "27 Hi Hello DR.\n",
      "28 Hi Hello DR.\n",
      "29 Hi Hello DR.\n",
      "30 Hi Hello DR.\n",
      "31 Hi Hello DR.\n",
      "32 Hi Hello DR.\n",
      "33 Hi Hello DR.\n",
      "34 Hi Hello DR.\n",
      "35 Hi Hello DR.\n",
      "36 Hi Hello DR.\n",
      "37 Hi Hello DR.\n",
      "38 Hi Hello DR.\n",
      "39 Hi Hello DR.\n",
      "40 Hi Hello DR.\n",
      "41 Hi Hello DR.\n",
      "42 Hi Hello DR.\n",
      "43 Hi Hello DR.\n",
      "44 Hi Hello DR.\n",
      "45 Hi Hello DR.\n",
      "46 Hi Hello DR.\n",
      "47 Hi Hello DR.\n",
      "48 Hi Hello DR.\n",
      "49 Hi Hello DR.\n",
      "50 Hi Hello DR.\n",
      "51 Hi DR.\n",
      "52 Hi DR.\n",
      "53 Hi DR.\n",
      "54 Hi DR.\n",
      "55 Hi DR.\n",
      "56 Hi DR.\n",
      "57 Hi DR.\n",
      "58 Hi DR.\n",
      "59 Hi DR.\n",
      "60 Hi DR.\n",
      "61 Hi DR.\n",
      "62 Hi DR.\n",
      "63 Hi DR.\n",
      "64 Hi DR.\n",
      "65 Hi DR.\n",
      "66 Hi DR.\n",
      "67 Hi DR.\n",
      "68 Hi DR.\n",
      "69 Hi DR.\n",
      "70 Hi DR.\n",
      "71 Hi DR.\n",
      "72 Hi DR.\n",
      "73 Hi DR.\n",
      "74 Hi DR.\n",
      "75 Hi Hello Hey DR.\n",
      "76 Hi Hello Hey DR.\n",
      "77 Hi Hello Hey DR.\n",
      "78 Hi Hello Hey DR.\n",
      "79 Hi Hello Hey DR.\n",
      "80 Hi Hello Hey DR.\n",
      "81 Hi Hello Hey DR.\n",
      "82 Hi Hello Hey DR.\n",
      "83 Hi Hello Hey DR.\n",
      "84 Hi Hello Hey DR.\n",
      "85 Hi Hello Hey DR.\n",
      "86 Hi Hello Hey DR.\n",
      "87 Hi Hello Hey DR.\n",
      "88 Hi Hello Hey DR.\n",
      "89 Hi Hello Hey DR.\n",
      "90 Hi Hello Hey DR.\n",
      "91 Hi Hello Hey DR.\n",
      "92 Hi Hello Hey DR.\n",
      "93 Hi Hello Hey DR.\n",
      "94 Hi Hello Hey DR.\n",
      "95 Hi Hello Hey DR.\n",
      "96 Hi Hello Hey DR.\n",
      "97 Hi Hello Hey DR.\n",
      "98 Hi Hello Hey DR.\n",
      "99 Hi Hello Hey DR.\n",
      "100 Hi Hello Hey DR.\n"
     ]
    }
   ],
   "source": [
    "# Hi, Hello & Hey\n",
    "\n",
    "a = \"Hi\"\n",
    "b = \"Hello\"\n",
    "c = \"Hey\"\n",
    "d = \"DR.\"\n",
    "\n",
    "for i in range(1,101):\n",
    "    if i>=25 and i<51:\n",
    "        print(i,a,b,d)\n",
    "    elif i>=75 and i<101:\n",
    "        print(i,a,b,c,d)\n",
    "    else: print(i,a,d)"
   ]
  },
  {
   "cell_type": "code",
   "execution_count": 18,
   "id": "162e7630",
   "metadata": {},
   "outputs": [
    {
     "data": {
      "text/plain": [
       "['a', 'b', 'c', 'd', 'e', 'f']"
      ]
     },
     "execution_count": 18,
     "metadata": {},
     "output_type": "execute_result"
    }
   ],
   "source": [
    "list1 = ['a','b','c','d','e','f']\n",
    "list1"
   ]
  },
  {
   "cell_type": "code",
   "execution_count": 19,
   "id": "e439a84c",
   "metadata": {},
   "outputs": [
    {
     "data": {
      "text/plain": [
       "['b', 'c', 'd', 'e', 'f']"
      ]
     },
     "execution_count": 19,
     "metadata": {},
     "output_type": "execute_result"
    }
   ],
   "source": [
    "list1[1:6]"
   ]
  },
  {
   "cell_type": "code",
   "execution_count": 20,
   "id": "912a64bb",
   "metadata": {},
   "outputs": [
    {
     "data": {
      "text/plain": [
       "['a', 'b', 'c', 'd', 'e', 'f']"
      ]
     },
     "execution_count": 20,
     "metadata": {},
     "output_type": "execute_result"
    }
   ],
   "source": [
    "list1[:]"
   ]
  },
  {
   "cell_type": "code",
   "execution_count": 21,
   "id": "9c632642",
   "metadata": {},
   "outputs": [
    {
     "data": {
      "text/plain": [
       "['b', 'd', 'f']"
      ]
     },
     "execution_count": 21,
     "metadata": {},
     "output_type": "execute_result"
    }
   ],
   "source": [
    "list1[1:6:2]"
   ]
  },
  {
   "cell_type": "code",
   "execution_count": 22,
   "id": "e0d4ee7b",
   "metadata": {},
   "outputs": [
    {
     "data": {
      "text/plain": [
       "['b', 'd']"
      ]
     },
     "execution_count": 22,
     "metadata": {},
     "output_type": "execute_result"
    }
   ],
   "source": [
    "list1[1:4:2]"
   ]
  },
  {
   "cell_type": "code",
   "execution_count": 23,
   "id": "d6ba2b9f",
   "metadata": {},
   "outputs": [
    {
     "data": {
      "text/plain": [
       "['b', 'd']"
      ]
     },
     "execution_count": 23,
     "metadata": {},
     "output_type": "execute_result"
    }
   ],
   "source": [
    "list1[1:5:2]"
   ]
  },
  {
   "cell_type": "code",
   "execution_count": 24,
   "id": "b343227f",
   "metadata": {},
   "outputs": [
    {
     "data": {
      "text/plain": [
       "['f', 'd', 'b']"
      ]
     },
     "execution_count": 24,
     "metadata": {},
     "output_type": "execute_result"
    }
   ],
   "source": [
    "list1[::-2]"
   ]
  },
  {
   "cell_type": "code",
   "execution_count": 25,
   "id": "1daea943",
   "metadata": {},
   "outputs": [
    {
     "data": {
      "text/plain": [
       "'Welcome'"
      ]
     },
     "execution_count": 25,
     "metadata": {},
     "output_type": "execute_result"
    }
   ],
   "source": [
    "str=\"Welcome\"\n",
    "str"
   ]
  },
  {
   "cell_type": "code",
   "execution_count": 26,
   "id": "8fa936ef",
   "metadata": {},
   "outputs": [
    {
     "data": {
      "text/plain": [
       "'emocleW'"
      ]
     },
     "execution_count": 26,
     "metadata": {},
     "output_type": "execute_result"
    }
   ],
   "source": [
    "str[::-1]"
   ]
  },
  {
   "cell_type": "code",
   "execution_count": 27,
   "id": "33bedb10",
   "metadata": {},
   "outputs": [
    {
     "data": {
      "text/plain": [
       "[(0, 'W'), (1, 'e'), (2, 'l'), (3, 'c'), (4, 'o'), (5, 'm'), (6, 'e')]"
      ]
     },
     "execution_count": 27,
     "metadata": {},
     "output_type": "execute_result"
    }
   ],
   "source": [
    "list(enumerate(str))"
   ]
  },
  {
   "cell_type": "code",
   "execution_count": 28,
   "id": "5fe4f874",
   "metadata": {
    "scrolled": true
   },
   "outputs": [
    {
     "name": "stdout",
     "output_type": "stream",
     "text": [
      "['c++', 'c', 'python', 'java', 'sql', 'tableau', 'julia']\n"
     ]
    }
   ],
   "source": [
    "lst = ['c++','c','python','java','sql','tableau','julia']\n",
    "print(lst)"
   ]
  },
  {
   "cell_type": "code",
   "execution_count": 29,
   "id": "5464c54b",
   "metadata": {},
   "outputs": [
    {
     "name": "stdout",
     "output_type": "stream",
     "text": [
      "The Area of the circle is 1256.0 sq.cm\n"
     ]
    }
   ],
   "source": [
    "radius=r=20\n",
    "Area = 3.14*(r**2)\n",
    "print(\"The Area of the circle is\",Area, \"sq.cm\")"
   ]
  },
  {
   "cell_type": "code",
   "execution_count": 30,
   "id": "71db87cf",
   "metadata": {},
   "outputs": [],
   "source": [
    "import math"
   ]
  },
  {
   "cell_type": "code",
   "execution_count": 31,
   "id": "aa1d3187",
   "metadata": {},
   "outputs": [],
   "source": [
    "# FizzBuzz - if no. divisible by 3 then \"Fizz\", if no. divisible by 5 then \"Buzz\",\n",
    "#if no. divisible by 3,5 then \"Fizz Buz\", else the number.\n",
    "\n",
    "def FizzBuzz(num):\n",
    "    if num%3 == 0 and num%5 == 0:\n",
    "        print(\"FizzBuzz\")\n",
    "    elif num%3 == 0:\n",
    "        print(\"Fizz\")\n",
    "    elif num%5 == 0:\n",
    "        print(\"Buzz\")\n",
    "    else: return(num)\n"
   ]
  },
  {
   "cell_type": "code",
   "execution_count": 32,
   "id": "d92e293d",
   "metadata": {},
   "outputs": [
    {
     "name": "stdout",
     "output_type": "stream",
     "text": [
      "Buzz\n"
     ]
    }
   ],
   "source": [
    "FizzBuzz(5)"
   ]
  },
  {
   "cell_type": "code",
   "execution_count": 33,
   "id": "4002818a",
   "metadata": {},
   "outputs": [
    {
     "name": "stdout",
     "output_type": "stream",
     "text": [
      "-3\n"
     ]
    }
   ],
   "source": [
    "def sub(n,m):\n",
    "    c = n-m\n",
    "    return c\n",
    "\n",
    "print(sub(5,8))"
   ]
  },
  {
   "cell_type": "code",
   "execution_count": 34,
   "id": "20dbdf2f",
   "metadata": {},
   "outputs": [
    {
     "name": "stdout",
     "output_type": "stream",
     "text": [
      "Enter the number: 5\n",
      "factorial =  120\n"
     ]
    }
   ],
   "source": [
    "# Factorial\n",
    "\n",
    "y = int(input(\"Enter the number: \"))\n",
    "factorial=1\n",
    "if y==0:\n",
    "    print(\"Factorial is 1\")\n",
    "elif y<0:\n",
    "    print(\"number must be positive\")\n",
    "else: \n",
    "    for i in range(1,y+1):\n",
    "        factorial = factorial*i    \n",
    "    print(\"factorial = \", factorial)"
   ]
  },
  {
   "cell_type": "code",
   "execution_count": 35,
   "id": "f1e7e7bd",
   "metadata": {},
   "outputs": [
    {
     "data": {
      "text/plain": [
       "120"
      ]
     },
     "execution_count": 35,
     "metadata": {},
     "output_type": "execute_result"
    }
   ],
   "source": [
    "math.factorial(5)"
   ]
  },
  {
   "cell_type": "code",
   "execution_count": 36,
   "id": "dade2925",
   "metadata": {},
   "outputs": [
    {
     "name": "stdout",
     "output_type": "stream",
     "text": [
      "0 1\n",
      "0 2\n",
      "0 3\n",
      "0 4\n",
      "1 1\n",
      "1 2\n",
      "1 3\n",
      "1 4\n",
      "2 1\n",
      "2 2\n",
      "2 3\n",
      "2 4\n",
      "3 1\n",
      "3 2\n",
      "3 3\n",
      "3 4\n"
     ]
    }
   ],
   "source": [
    "for i in range(0,4):\n",
    "    for j in range(1,5):\n",
    "        print(i,j)\n",
    "    "
   ]
  },
  {
   "cell_type": "code",
   "execution_count": 37,
   "id": "524492dc",
   "metadata": {},
   "outputs": [
    {
     "name": "stdout",
     "output_type": "stream",
     "text": [
      "1 0\n",
      "2 0\n",
      "3 0\n",
      "4 0\n",
      "1 1\n",
      "2 1\n",
      "3 1\n",
      "4 1\n",
      "1 2\n",
      "2 2\n",
      "3 2\n",
      "4 2\n",
      "1 3\n",
      "2 3\n",
      "3 3\n",
      "4 3\n"
     ]
    }
   ],
   "source": [
    "for i in range(0,4):\n",
    "    for j in range(1,5):\n",
    "        print(j,i)"
   ]
  },
  {
   "cell_type": "code",
   "execution_count": 38,
   "id": "a7e91257",
   "metadata": {},
   "outputs": [],
   "source": [
    "import math"
   ]
  },
  {
   "cell_type": "code",
   "execution_count": 39,
   "id": "86abe2aa",
   "metadata": {},
   "outputs": [
    {
     "data": {
      "text/plain": [
       "['__doc__',\n",
       " '__loader__',\n",
       " '__name__',\n",
       " '__package__',\n",
       " '__spec__',\n",
       " 'acos',\n",
       " 'acosh',\n",
       " 'asin',\n",
       " 'asinh',\n",
       " 'atan',\n",
       " 'atan2',\n",
       " 'atanh',\n",
       " 'ceil',\n",
       " 'comb',\n",
       " 'copysign',\n",
       " 'cos',\n",
       " 'cosh',\n",
       " 'degrees',\n",
       " 'dist',\n",
       " 'e',\n",
       " 'erf',\n",
       " 'erfc',\n",
       " 'exp',\n",
       " 'expm1',\n",
       " 'fabs',\n",
       " 'factorial',\n",
       " 'floor',\n",
       " 'fmod',\n",
       " 'frexp',\n",
       " 'fsum',\n",
       " 'gamma',\n",
       " 'gcd',\n",
       " 'hypot',\n",
       " 'inf',\n",
       " 'isclose',\n",
       " 'isfinite',\n",
       " 'isinf',\n",
       " 'isnan',\n",
       " 'isqrt',\n",
       " 'lcm',\n",
       " 'ldexp',\n",
       " 'lgamma',\n",
       " 'log',\n",
       " 'log10',\n",
       " 'log1p',\n",
       " 'log2',\n",
       " 'modf',\n",
       " 'nan',\n",
       " 'nextafter',\n",
       " 'perm',\n",
       " 'pi',\n",
       " 'pow',\n",
       " 'prod',\n",
       " 'radians',\n",
       " 'remainder',\n",
       " 'sin',\n",
       " 'sinh',\n",
       " 'sqrt',\n",
       " 'tan',\n",
       " 'tanh',\n",
       " 'tau',\n",
       " 'trunc',\n",
       " 'ulp']"
      ]
     },
     "execution_count": 39,
     "metadata": {},
     "output_type": "execute_result"
    }
   ],
   "source": [
    "dir(math)"
   ]
  },
  {
   "cell_type": "code",
   "execution_count": 40,
   "id": "d18173ba",
   "metadata": {},
   "outputs": [
    {
     "name": "stdout",
     "output_type": "stream",
     "text": [
      "Volume of Sphere is:  904.7786842338603\n"
     ]
    }
   ],
   "source": [
    "# Pi \n",
    "\n",
    "a = 6 \n",
    "\n",
    "s = (4/3)*(math.pi)*(6**3)\n",
    "print(\"Volume of Sphere is: \", s)"
   ]
  },
  {
   "cell_type": "code",
   "execution_count": 41,
   "id": "8d763fc1",
   "metadata": {},
   "outputs": [
    {
     "name": "stdout",
     "output_type": "stream",
     "text": [
      "3\n"
     ]
    }
   ],
   "source": [
    "List1 = [2,5,8,9,7,11,5,11,6,11]\n",
    "\n",
    "x = List1.count(11)\n",
    "print(x)"
   ]
  },
  {
   "cell_type": "code",
   "execution_count": 42,
   "id": "b7965958",
   "metadata": {},
   "outputs": [
    {
     "name": "stdout",
     "output_type": "stream",
     "text": [
      "162\n",
      "758\n",
      "918\n",
      "412\n",
      "566\n",
      "826\n",
      "248\n",
      "866\n",
      "950\n",
      "626\n",
      "217\n"
     ]
    }
   ],
   "source": [
    "# Write a Python program to print all even numbers from a given numbers list in the same order and stop the printing if any numbers that come after 217 in the sequence. Go to the editorSample numbers list :\n",
    "\n",
    "List3 = [399, 162, 758, 219, 918, 237, 412, 566, 826, 248, 866, 950, 626, 949, 687, 217,\n",
    "\n",
    "815, 67, 104, 58, 512, 24, 892, 894, 767, 553, 81, 379, 843, 831, 445, 742, 717,\n",
    "\n",
    "958,743, 527]\n",
    "\n",
    "for x in List3:\n",
    "    if x==217:\n",
    "        print(x)\n",
    "        break;\n",
    "    elif x%2==0:\n",
    "        print(x)"
   ]
  },
  {
   "cell_type": "code",
   "execution_count": 43,
   "id": "f6055337",
   "metadata": {},
   "outputs": [
    {
     "name": "stdout",
     "output_type": "stream",
     "text": [
      "Enter the lower range: 5\n",
      "Enter the upper range: 5\n"
     ]
    }
   ],
   "source": [
    "# Write a Python program to find those numbers which are divisible by 7 and multiple of 5, between 1500 and 2700 (both included)\n",
    "\n",
    "lower = int(input(\"Enter the lower range: \"))\n",
    "upper = int(input(\"Enter the upper range: \"))\n",
    "\n",
    "for i in range(lower,upper+1):\n",
    "    if (i%7==0 and i%5==0):\n",
    "        print(i)"
   ]
  },
  {
   "cell_type": "code",
   "execution_count": 44,
   "id": "6f5d3cc5",
   "metadata": {},
   "outputs": [
    {
     "name": "stdout",
     "output_type": "stream",
     "text": [
      "0 1 2 4 5 \n",
      "\n"
     ]
    }
   ],
   "source": [
    "for x in range(6):\n",
    "    if (x==3 or x==6):\n",
    "        continue\n",
    "    print(x,end=' ')\n",
    "print(\"\\n\")"
   ]
  },
  {
   "cell_type": "code",
   "execution_count": 45,
   "id": "9de5c1ac",
   "metadata": {},
   "outputs": [
    {
     "name": "stdout",
     "output_type": "stream",
     "text": [
      "0\n",
      "1\n",
      "2\n",
      "4\n",
      "5\n",
      "\n",
      "\n"
     ]
    }
   ],
   "source": [
    "for x in range(6):\n",
    "    if (x == 3 or x==6):\n",
    "        continue\n",
    "    print(x)\n",
    "print(\"\\n\")\n"
   ]
  },
  {
   "cell_type": "code",
   "execution_count": 46,
   "id": "4bd5de19",
   "metadata": {},
   "outputs": [],
   "source": [
    "from datetime import time"
   ]
  },
  {
   "cell_type": "code",
   "execution_count": 47,
   "id": "8f588a06",
   "metadata": {},
   "outputs": [
    {
     "name": "stdout",
     "output_type": "stream",
     "text": [
      "9 days\n"
     ]
    }
   ],
   "source": [
    "from datetime import date\n",
    "f_date = date(2014, 7, 2)\n",
    "l_date = date(2014, 7, 11)\n",
    "delta = l_date - f_date\n",
    "print(delta.days, \"days\")\n"
   ]
  },
  {
   "cell_type": "code",
   "execution_count": 48,
   "id": "7a18248c",
   "metadata": {},
   "outputs": [
    {
     "name": "stdout",
     "output_type": "stream",
     "text": [
      "current snacks:  pizza\n",
      "current snacks:  burger\n",
      "current snacks:  franky\n",
      "current snacks:  fries\n"
     ]
    }
   ],
   "source": [
    "snacks = ['pizza', 'burger', 'franky', 'fries']\n",
    "for x in snacks:\n",
    "    print(\"current snacks: \", x)"
   ]
  },
  {
   "cell_type": "code",
   "execution_count": 49,
   "id": "fe925281",
   "metadata": {},
   "outputs": [
    {
     "name": "stdout",
     "output_type": "stream",
     "text": [
      "Enter the number > 0 : 5\n",
      "The sum is:  15\n"
     ]
    }
   ],
   "source": [
    "# sum and counter\n",
    "n = int(input(\"Enter the number > 0 : \"))\n",
    "sum = 0\n",
    "i = 1\n",
    "\n",
    "while i <= n:\n",
    "    sum = sum + i\n",
    "    i = i + 1\n",
    "print(\"The sum is: \", sum)"
   ]
  },
  {
   "cell_type": "code",
   "execution_count": 50,
   "id": "84eb4c6a",
   "metadata": {},
   "outputs": [
    {
     "name": "stdout",
     "output_type": "stream",
     "text": [
      "1 1 2 3 5 8 13 21 34 "
     ]
    }
   ],
   "source": [
    "# Fibonacci series\n",
    "\n",
    "x,y = 0,1\n",
    "\n",
    "while y<50 :\n",
    "    print(y, end=\" \")\n",
    "    x, y = y, x+y"
   ]
  },
  {
   "cell_type": "code",
   "execution_count": 51,
   "id": "f7e6ba48",
   "metadata": {},
   "outputs": [
    {
     "name": "stdout",
     "output_type": "stream",
     "text": [
      "1\n",
      "1\n",
      "2\n",
      "3\n",
      "5\n",
      "8\n",
      "13\n",
      "21\n",
      "34\n"
     ]
    }
   ],
   "source": [
    "x,y = 0,1\n",
    "\n",
    "while y<50 :\n",
    "    print(y)\n",
    "    x, y = y, x+y"
   ]
  },
  {
   "cell_type": "code",
   "execution_count": 52,
   "id": "dfb6223d",
   "metadata": {},
   "outputs": [
    {
     "data": {
      "text/plain": [
       "'Hi Welcome to Python'"
      ]
     },
     "execution_count": 52,
     "metadata": {},
     "output_type": "execute_result"
    }
   ],
   "source": [
    "list8= ['Hi','Welcome']\n",
    "list9= ['to', 'Python']\n",
    "\n",
    "s = ' '.join(list8,)\n",
    "t = ' '.join(list9)\n",
    "\n",
    "r = s + \" \" + t\n",
    "r\n",
    "\n"
   ]
  },
  {
   "cell_type": "code",
   "execution_count": 53,
   "id": "c606df73",
   "metadata": {},
   "outputs": [],
   "source": [
    "# Write a Pandas program to select the specified columns and rows from a given data frame. Go to the editorSample Python dictionary data and list labels:\n",
    "\n",
    "# Select 'name' and 'score' columns in rows 1, 3, 5, 6 from the following data frame.\n",
    "\n",
    "import pandas as pd\n",
    "\n",
    "import numpy as np"
   ]
  },
  {
   "cell_type": "code",
   "execution_count": 54,
   "id": "5dc96868",
   "metadata": {},
   "outputs": [
    {
     "name": "stdout",
     "output_type": "stream",
     "text": [
      "        name  score  attempts qualify\n",
      "a  Anastasia   12.5         1     yes\n",
      "b       Dima    9.0         3      no\n",
      "c  Katherine   16.5         2     yes\n",
      "d      James    NaN         3      no\n",
      "e      Emily    9.0         2      no\n",
      "f    Michael   20.0         3     yes\n",
      "g    Matthew   14.5         1     yes\n",
      "h      Laura    NaN         1      no\n",
      "i      Kevin    8.0         2      no\n",
      "j      Jonas   19.0         1     yes\n"
     ]
    }
   ],
   "source": [
    "exam_data = {'name': ['Anastasia', 'Dima', 'Katherine', 'James', 'Emily', 'Michael', 'Matthew', 'Laura', 'Kevin', 'Jonas'],\n",
    "\n",
    "             'score': [12.5, 9, 16.5, np.nan, 9, 20, 14.5, np.nan, 8, 19],\n",
    "\n",
    "             'attempts': [1, 3, 2, 3, 2, 3, 1, 1, 2, 1],\n",
    "\n",
    "             'qualify': ['yes', 'no', 'yes', 'no', 'no', 'yes', 'yes', 'no', 'no', 'yes']} \n",
    "\n",
    "labels = ['a', 'b', 'c', 'd', 'e', 'f', 'g', 'h', 'i', 'j']\n",
    "\n",
    "df = pd.DataFrame(exam_data, index=labels)\n",
    "print(df)"
   ]
  },
  {
   "cell_type": "code",
   "execution_count": 55,
   "id": "12da4d76",
   "metadata": {},
   "outputs": [
    {
     "name": "stdout",
     "output_type": "stream",
     "text": [
      "Select specific columns & rows: \n",
      "      name  score\n",
      "b     Dima    9.0\n",
      "d    James    NaN\n",
      "f  Michael   20.0\n",
      "g  Matthew   14.5\n"
     ]
    }
   ],
   "source": [
    "print(\"Select specific columns & rows: \")\n",
    "print(df.iloc[[1,3,5,6],[0,1]])"
   ]
  },
  {
   "cell_type": "code",
   "execution_count": 56,
   "id": "cc2f0ab7",
   "metadata": {},
   "outputs": [
    {
     "name": "stdout",
     "output_type": "stream",
     "text": [
      "Name & Scores: \n",
      "        name  score\n",
      "a  Anastasia   12.5\n",
      "b       Dima    9.0\n",
      "c  Katherine   16.5\n",
      "d      James    NaN\n",
      "e      Emily    9.0\n",
      "f    Michael   20.0\n",
      "g    Matthew   14.5\n",
      "h      Laura    NaN\n",
      "i      Kevin    8.0\n",
      "j      Jonas   19.0\n"
     ]
    }
   ],
   "source": [
    "df = pd.DataFrame(exam_data, index=labels)\n",
    "print(\"Name & Scores: \")\n",
    "print(df[['name','score']])"
   ]
  },
  {
   "cell_type": "code",
   "execution_count": 57,
   "id": "4c23c9dc",
   "metadata": {},
   "outputs": [
    {
     "name": "stdout",
     "output_type": "stream",
     "text": [
      "Attempts Greater than 2: \n",
      "      name  score  attempts qualify\n",
      "b     Dima    9.0         3      no\n",
      "d    James    NaN         3      no\n",
      "f  Michael   20.0         3     yes\n"
     ]
    }
   ],
   "source": [
    "df = pd.DataFrame(exam_data, index=labels)\n",
    "print(\"Attempts Greater than 2: \")\n",
    "print(df[df['attempts']>2])"
   ]
  },
  {
   "cell_type": "code",
   "execution_count": 60,
   "id": "c3150178",
   "metadata": {},
   "outputs": [
    {
     "data": {
      "text/plain": [
       "'3.9.12'"
      ]
     },
     "execution_count": 60,
     "metadata": {},
     "output_type": "execute_result"
    }
   ],
   "source": [
    "from platform import python_version\n",
    "python_version()"
   ]
  },
  {
   "cell_type": "code",
   "execution_count": 61,
   "id": "b6ea88ee",
   "metadata": {},
   "outputs": [
    {
     "name": "stdout",
     "output_type": "stream",
     "text": [
      "Selected Jupyter core packages...\n",
      "IPython          : 8.2.0\n",
      "ipykernel        : 6.9.1\n",
      "ipywidgets       : 7.6.5\n",
      "jupyter_client   : 6.1.12\n",
      "jupyter_core     : 4.9.2\n",
      "jupyter_server   : 1.13.5\n",
      "jupyterlab       : 3.3.2\n",
      "nbclient         : 0.5.13\n",
      "nbconvert        : 6.4.4\n",
      "nbformat         : 5.3.0\n",
      "notebook         : 6.4.8\n",
      "qtconsole        : 5.3.0\n",
      "traitlets        : 5.1.1\n"
     ]
    }
   ],
   "source": [
    "!jupyter --version"
   ]
  },
  {
   "cell_type": "code",
   "execution_count": 62,
   "id": "b46e6835",
   "metadata": {},
   "outputs": [
    {
     "name": "stdout",
     "output_type": "stream",
     "text": [
      "Python 3.10.5\n"
     ]
    }
   ],
   "source": [
    "!python --version"
   ]
  },
  {
   "cell_type": "code",
   "execution_count": 63,
   "id": "29cd5c2a",
   "metadata": {},
   "outputs": [
    {
     "name": "stdout",
     "output_type": "stream",
     "text": [
      "Enter the 1st number: 5\n",
      "Enter the 2nd number: 5\n",
      "Addition: \n"
     ]
    }
   ],
   "source": [
    "#Various Operators in Python\n",
    "\n",
    "a = int(input(\"Enter the 1st number: \"))\n",
    "b = int(input(\"Enter the 2nd number: \"))\n",
    "\n",
    "print(\"Addition: \")"
   ]
  }
 ],
 "metadata": {
  "kernelspec": {
   "display_name": "Python 3 (ipykernel)",
   "language": "python",
   "name": "python3"
  },
  "language_info": {
   "codemirror_mode": {
    "name": "ipython",
    "version": 3
   },
   "file_extension": ".py",
   "mimetype": "text/x-python",
   "name": "python",
   "nbconvert_exporter": "python",
   "pygments_lexer": "ipython3",
   "version": "3.9.12"
  },
  "toc": {
   "base_numbering": 1,
   "nav_menu": {},
   "number_sections": true,
   "sideBar": true,
   "skip_h1_title": false,
   "title_cell": "Table of Contents",
   "title_sidebar": "Contents",
   "toc_cell": false,
   "toc_position": {},
   "toc_section_display": true,
   "toc_window_display": false
  }
 },
 "nbformat": 4,
 "nbformat_minor": 5
}
